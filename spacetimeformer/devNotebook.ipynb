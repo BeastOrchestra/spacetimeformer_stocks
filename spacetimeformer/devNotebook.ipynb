{
 "cells": [
  {
   "cell_type": "code",
   "execution_count": 1,
   "metadata": {},
   "outputs": [
    {
     "name": "stdout",
     "output_type": "stream",
     "text": [
      "8\n"
     ]
    }
   ],
   "source": [
    "import multiprocessing\n",
    "\n",
    "nc=multiprocessing.cpu_count()\n"
   ]
  },
  {
   "cell_type": "code",
   "execution_count": 11,
   "metadata": {},
   "outputs": [
    {
     "name": "stdout",
     "output_type": "stream",
     "text": [
      "Requirement already satisfied: gdown in /Users/alecjeffery/anaconda3/envs/spacetimeformer/lib/python3.8/site-packages (5.1.0)\n",
      "Requirement already satisfied: beautifulsoup4 in /Users/alecjeffery/anaconda3/envs/spacetimeformer/lib/python3.8/site-packages (from gdown) (4.12.3)\n",
      "Requirement already satisfied: filelock in /Users/alecjeffery/anaconda3/envs/spacetimeformer/lib/python3.8/site-packages (from gdown) (3.13.1)\n",
      "Requirement already satisfied: requests[socks] in /Users/alecjeffery/anaconda3/envs/spacetimeformer/lib/python3.8/site-packages (from gdown) (2.31.0)\n",
      "Requirement already satisfied: tqdm in /Users/alecjeffery/anaconda3/envs/spacetimeformer/lib/python3.8/site-packages (from gdown) (4.66.1)\n",
      "Requirement already satisfied: soupsieve>1.2 in /Users/alecjeffery/anaconda3/envs/spacetimeformer/lib/python3.8/site-packages (from beautifulsoup4->gdown) (2.5)\n",
      "Requirement already satisfied: charset-normalizer<4,>=2 in /Users/alecjeffery/anaconda3/envs/spacetimeformer/lib/python3.8/site-packages (from requests[socks]->gdown) (3.3.2)\n",
      "Requirement already satisfied: idna<4,>=2.5 in /Users/alecjeffery/anaconda3/envs/spacetimeformer/lib/python3.8/site-packages (from requests[socks]->gdown) (3.6)\n",
      "Requirement already satisfied: urllib3<3,>=1.21.1 in /Users/alecjeffery/anaconda3/envs/spacetimeformer/lib/python3.8/site-packages (from requests[socks]->gdown) (2.1.0)\n",
      "Requirement already satisfied: certifi>=2017.4.17 in /Users/alecjeffery/anaconda3/envs/spacetimeformer/lib/python3.8/site-packages (from requests[socks]->gdown) (2023.11.17)\n",
      "Requirement already satisfied: PySocks!=1.5.7,>=1.5.6 in /Users/alecjeffery/anaconda3/envs/spacetimeformer/lib/python3.8/site-packages (from requests[socks]->gdown) (1.7.1)\n"
     ]
    },
    {
     "name": "stderr",
     "output_type": "stream",
     "text": [
      "Downloading...\n",
      "From (original): https://drive.google.com/uc?id=1tbNhmhNV23QOunLjWveyUj0Y0_DaoBPt\n",
      "From (redirected): https://drive.google.com/uc?id=1tbNhmhNV23QOunLjWveyUj0Y0_DaoBPt&confirm=t&uuid=9a0a30c6-8cda-4292-94fc-e52473a25c25\n",
      "To: /Users/alecjeffery/Documents/Playgrounds/Python/spacetimeformer_stocks/testImport.pth\n",
      "100%|██████████| 431M/431M [00:16<00:00, 26.0MB/s] \n"
     ]
    },
    {
     "name": "stdout",
     "output_type": "stream",
     "text": [
      "['.DS_Store', 'LICENSE', 'requirements.txt', 'readme_media', '.readthedocs.yml', 'README.md', 'setup.py', '.gitignore', 'testImport.pth', '.git', 'spacetimeformer']\n"
     ]
    }
   ],
   "source": [
    "!pip install gdown\n",
    "\n",
    "import gdown\n",
    "url=\"https://drive.google.com/uc?id=1tbNhmhNV23QOunLjWveyUj0Y0_DaoBPt\"\n",
    "# url =\"https://drive.google.com/file/d/1tbNhmhNV23QOunLjWveyUj0Y0_DaoBPt/view?usp=sharing\"\n",
    "# Download the file\n",
    "output_path = 'testImport.pth'\n",
    "gdown.download(url, output_path, quiet=False)\n",
    "\n",
    "import os\n",
    "print(os.listdir()) \n"
   ]
  }
 ],
 "metadata": {
  "kernelspec": {
   "display_name": "spacetimeformer",
   "language": "python",
   "name": "python3"
  },
  "language_info": {
   "codemirror_mode": {
    "name": "ipython",
    "version": 3
   },
   "file_extension": ".py",
   "mimetype": "text/x-python",
   "name": "python",
   "nbconvert_exporter": "python",
   "pygments_lexer": "ipython3",
   "version": "3.8.18"
  }
 },
 "nbformat": 4,
 "nbformat_minor": 2
}
