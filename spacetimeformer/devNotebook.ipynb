{
 "cells": [
  {
   "cell_type": "code",
   "execution_count": 10,
   "metadata": {},
   "outputs": [
    {
     "name": "stdout",
     "output_type": "stream",
     "text": [
      "Forecaster\n",
      "\tL2: 1e-06\n",
      "\tLinear Window: 0\n",
      "\tLinear Shared Weights: False\n",
      "\tRevIN: False\n",
      "\tDecomposition: False\n",
      "GlobalSelfAttn: AttentionLayer(\n",
      "  (inner_attention): FullAttention(\n",
      "    (dropout): Dropout(p=0.15, inplace=False)\n",
      "  )\n",
      "  (query_projection): Linear(in_features=512, out_features=800, bias=True)\n",
      "  (key_projection): Linear(in_features=512, out_features=800, bias=True)\n",
      "  (value_projection): Linear(in_features=512, out_features=800, bias=True)\n",
      "  (out_projection): Linear(in_features=800, out_features=512, bias=True)\n",
      "  (dropout_qkv): Dropout(p=0.15, inplace=False)\n",
      ")\n",
      "GlobalCrossAttn: AttentionLayer(\n",
      "  (inner_attention): FullAttention(\n",
      "    (dropout): Dropout(p=0.15, inplace=False)\n",
      "  )\n",
      "  (query_projection): Linear(in_features=512, out_features=800, bias=True)\n",
      "  (key_projection): Linear(in_features=512, out_features=800, bias=True)\n",
      "  (value_projection): Linear(in_features=512, out_features=800, bias=True)\n",
      "  (out_projection): Linear(in_features=800, out_features=512, bias=True)\n",
      "  (dropout_qkv): Dropout(p=0.15, inplace=False)\n",
      ")\n",
      "LocalSelfAttn: AttentionLayer(\n",
      "  (inner_attention): FullAttention(\n",
      "    (dropout): Dropout(p=0.15, inplace=False)\n",
      "  )\n",
      "  (query_projection): Linear(in_features=512, out_features=800, bias=True)\n",
      "  (key_projection): Linear(in_features=512, out_features=800, bias=True)\n",
      "  (value_projection): Linear(in_features=512, out_features=800, bias=True)\n",
      "  (out_projection): Linear(in_features=800, out_features=512, bias=True)\n",
      "  (dropout_qkv): Dropout(p=0.15, inplace=False)\n",
      ")\n",
      "LocalCrossAttn: AttentionLayer(\n",
      "  (inner_attention): FullAttention(\n",
      "    (dropout): Dropout(p=0.15, inplace=False)\n",
      "  )\n",
      "  (query_projection): Linear(in_features=512, out_features=800, bias=True)\n",
      "  (key_projection): Linear(in_features=512, out_features=800, bias=True)\n",
      "  (value_projection): Linear(in_features=512, out_features=800, bias=True)\n",
      "  (out_projection): Linear(in_features=800, out_features=512, bias=True)\n",
      "  (dropout_qkv): Dropout(p=0.15, inplace=False)\n",
      ")\n",
      "Using Embedding: spatio-temporal\n",
      "Time Emb Dim: 6\n",
      "Space Embedding: True\n",
      "Time Embedding: True\n",
      "Val Embedding: True\n",
      "Given Embedding: True\n",
      "Null Value: None\n",
      "Pad Value: None\n",
      "Reconstruction Dropout: Timesteps 0.05, Standard 0.1, Seq (max len = 5) 0.2, Skip All Drop 1.0\n",
      " *** Spacetimeformer (v1.5) Summary: *** \n",
      "\t\tModel Dim: 512\n",
      "\t\tFF Dim: 2048\n",
      "\t\tEnc Layers: 3\n",
      "\t\tDec Layers: 4\n",
      "\t\tEmbed Dropout: 0.15\n",
      "\t\tFF Dropout: 0.15\n",
      "\t\tAttn Out Dropout: 0.15\n",
      "\t\tAttn Matrix Dropout: 0.15\n",
      "\t\tQKV Dropout: 0.15\n",
      "\t\tL2 Coeff: 1e-06\n",
      "\t\tWarmup Steps: 0\n",
      "\t\tNormalization Scheme: batch\n",
      "\t\tAttention Time Windows: 1\n",
      "\t\tShifted Time Windows: False\n",
      "\t\tPosition Emb Type: abs\n",
      "\t\tRecon Loss Imp: 0.0\n",
      " ***                                  *** \n",
      "^C\n"
     ]
    }
   ],
   "source": [
    "!python spacetimeformer/train.py spacetimeformer stocks --embed_method spatio-temporal --batch_size 256 --local_self_attn full --local_cross_attn full --global_self_attn full --global_cross_attn full --run_name stocks_spatiotemporal --context_points 60 --target_points 10 --epochs 200 --gpus 0 --activation gelu --dropout_emb 0.15 --dropout_qkv 0.15 --dropout_ff 0.15 --dropout_attn_out 0.15 --dropout_attn_matrix 0.15 --learning_rate 1e-5 --enc_layers 3 --dec_layers 4 --loss mse --n_heads 4 --d_model 512 --d_ff 2048\n"
   ]
  },
  {
   "cell_type": "code",
   "execution_count": 66,
   "metadata": {},
   "outputs": [
    {
     "name": "stdout",
     "output_type": "stream",
     "text": [
      "Traceback (most recent call last):\n",
      "  File \"spacetimeformer/pred_fromfile.py\", line 440, in <module>\n",
      "    main(args)\n",
      "  File \"spacetimeformer/pred_fromfile.py\", line 352, in main\n",
      "    dataset = TimeSeriesDataset_ContextOnly(folder_name=folder, file_name=i, context_length=args.context_points)\n",
      "  File \"/Users/alecjeffery/Documents/Playgrounds/Python/spacetimeformer_stocks/spacetimeformer/TimeSeriesDataset_ContextOnly.py\", line 10, in __init__\n",
      "    self.data_file = self.load_csv_file(folder_name, file_name)\n",
      "  File \"/Users/alecjeffery/Documents/Playgrounds/Python/spacetimeformer_stocks/spacetimeformer/TimeSeriesDataset_ContextOnly.py\", line 15, in load_csv_file\n",
      "    return pd.read_csv(file_path, index_col=0).values  # Treat the first column as index\n",
      "  File \"/Users/alecjeffery/anaconda3/envs/spacetimeformer/lib/python3.8/site-packages/pandas/io/parsers/readers.py\", line 912, in read_csv\n",
      "    return _read(filepath_or_buffer, kwds)\n",
      "  File \"/Users/alecjeffery/anaconda3/envs/spacetimeformer/lib/python3.8/site-packages/pandas/io/parsers/readers.py\", line 577, in _read\n",
      "    parser = TextFileReader(filepath_or_buffer, **kwds)\n",
      "  File \"/Users/alecjeffery/anaconda3/envs/spacetimeformer/lib/python3.8/site-packages/pandas/io/parsers/readers.py\", line 1407, in __init__\n",
      "    self._engine = self._make_engine(f, self.engine)\n",
      "  File \"/Users/alecjeffery/anaconda3/envs/spacetimeformer/lib/python3.8/site-packages/pandas/io/parsers/readers.py\", line 1679, in _make_engine\n",
      "    return mapping[engine](f, **self.options)\n",
      "  File \"/Users/alecjeffery/anaconda3/envs/spacetimeformer/lib/python3.8/site-packages/pandas/io/parsers/c_parser_wrapper.py\", line 93, in __init__\n",
      "    self._reader = parsers.TextReader(src, **kwds)\n",
      "  File \"pandas/_libs/parsers.pyx\", line 550, in pandas._libs.parsers.TextReader.__cinit__\n",
      "  File \"pandas/_libs/parsers.pyx\", line 639, in pandas._libs.parsers.TextReader._get_header\n",
      "  File \"pandas/_libs/parsers.pyx\", line 850, in pandas._libs.parsers.TextReader._tokenize_rows\n",
      "  File \"pandas/_libs/parsers.pyx\", line 861, in pandas._libs.parsers.TextReader._check_tokenize_status\n",
      "  File \"pandas/_libs/parsers.pyx\", line 2021, in pandas._libs.parsers.raise_parser_error\n",
      "UnicodeDecodeError: 'utf-8' codec can't decode byte 0x80 in position 3131: invalid start byte\n"
     ]
    }
   ],
   "source": [
    "# !python spacetimeformer/pred_fromfile.py spacetimeformer stocks --embed_method spatio-temporal --batch_size 64 --local_self_attn full --local_cross_attn full --global_self_attn full --global_cross_attn full --run_name stocks_spatiotemporal --context_points 100 --target_points 10 --epochs 200 --activation gelu --dropout_emb 0.3 --dropout_qkv 0.3 --dropout_ff 0.3 --dropout_attn_out 0.3 --dropout_attn_matrix 0.3 --learning_rate 1e-5 --enc_layers 5 --dec_layers 6 --loss mse --n_heads 6 --d_model 512 --d_ff 2048\n",
    "\n",
    "# most recent (Ran on Feb 14th)\n",
    "# !python spacetimeformer/pred_fromfile.py spacetimeformer stocks --embed_method spatio-temporal --batch_size 256 --local_self_attn full --local_cross_attn full --global_self_attn full --global_cross_attn full --run_name stocks_spatiotemporal --context_points 60 --target_points 10 --epochs 200 --gpus 0 --activation gelu --dropout_emb 0.15 --dropout_qkv 0.15 --dropout_ff 0.15 --dropout_attn_out 0.15 --dropout_attn_matrix 0.15 --learning_rate 5e-6 --enc_layers 4 --dec_layers 5 --loss mse --n_heads 4 --d_model 256 --d_ff 1024\n",
    "# !python spacetimeformer/pred_fromfile.py spacetimeformer stocks --embed_method spatio-temporal --batch_size 64 --local_self_attn full --local_cross_attn full --global_self_attn full --global_cross_attn full --run_name stocks_spatiotemporal --context_points 120 --target_points 20 --epochs 200 --activation gelu --dropout_emb 0.3 --dropout_qkv 0.3 --dropout_ff 0.3 --dropout_attn_out 0.3 --dropout_attn_matrix 0.3 --learning_rate 5e-6 --enc_layers 5 --dec_layers 6 --loss mse --n_heads 5 --d_model 400 --d_ff 1600\n",
    "\n",
    "!python spacetimeformer/pred_fromfile.py spacetimeformer stocks --embed_method spatio-temporal --batch_size 256 --local_self_attn full --local_cross_attn full --global_self_attn full --global_cross_attn full --run_name stocks_spatiotemporal --context_points 100 --target_points 10 --epochs 200 --activation gelu --dropout_emb 0.3 --dropout_qkv 0.3 --dropout_ff 0.3 --dropout_attn_out 0.3 --dropout_attn_matrix 0.3 --learning_rate 1e-5 --enc_layers 5 --dec_layers 6 --loss mse --n_heads 4 --d_model 512 --d_ff 2096"
   ]
  },
  {
   "cell_type": "code",
   "execution_count": 36,
   "metadata": {},
   "outputs": [
    {
     "data": {
      "text/plain": [
       "LLY    -3.866980\n",
       "AMD    -3.554501\n",
       "AVGO   -3.388530\n",
       "COST   -3.190850\n",
       "NFLX   -3.037027\n",
       "          ...   \n",
       "BA      2.538764\n",
       "HUM     4.285608\n",
       "ADBE    4.742271\n",
       "WBA     5.448320\n",
       "ADM     6.706529\n",
       "Name: Price_PrctDelta, Length: 61, dtype: float64"
      ]
     },
     "execution_count": 36,
     "metadata": {},
     "output_type": "execute_result"
    }
   ],
   "source": [
    "a['Price_PrctDelta'].sort_values()"
   ]
  },
  {
   "cell_type": "code",
   "execution_count": 65,
   "metadata": {},
   "outputs": [
    {
     "name": "stdout",
     "output_type": "stream",
     "text": [
      "['Close_1', 'Close_2', 'Close_3', 'Close_4', 'Close_5', 'Close_6', 'Close_7', 'Close_8', 'Close_9', 'Close_10']\n",
      "Long:  ADM     6.706529\n",
      "WBA     5.448320\n",
      "ADBE    4.742271\n",
      "HUM     4.285608\n",
      "BA      2.538764\n",
      "PFE     2.012513\n",
      "Name: Price_PrctDelta, dtype: float64\n",
      "Short:  LLY     -3.866980\n",
      "AMD     -3.554501\n",
      "AVGO    -3.388530\n",
      "COST    -3.190850\n",
      "NFLX    -3.037027\n",
      "GE      -2.782415\n",
      "NVDA    -2.700282\n",
      "PSX     -2.231674\n",
      "IBM     -2.203518\n",
      "BRK B   -2.055191\n",
      "Name: Price_PrctDelta, dtype: float64\n",
      "Long Calls:  ['WBA']\n",
      "Long Puts:  ['NFLX' 'GE' 'IBM']\n",
      "Long Volatility:  []\n",
      "Short Volatility:  KR     -29.104078\n",
      "CRM    -25.875633\n",
      "DELL   -23.953060\n",
      "AVGO   -23.642013\n",
      "ADBE   -23.138820\n",
      "Name: Volatility_PrctDelta, dtype: float64\n",
      "Long Butterfly:  ['MMM' 'ABEV']\n",
      "Short Butterfly:  []\n"
     ]
    },
    {
     "name": "stderr",
     "output_type": "stream",
     "text": [
      "/var/folders/mt/d3dxxncs4zbfjzd090b9rhph0000gn/T/ipykernel_65492/2365692489.py:61: UserWarning: Boolean Series key will be reindexed to match DataFrame index.\n",
      "  print('Short Butterfly: ',VolDump[ (VolDump['Price_PrctDelta']<5) &(Calls['Volatility_PrctDelta']>10)].index.values)\n"
     ]
    }
   ],
   "source": [
    "#%%\n",
    "\n",
    "import pandas as pd\n",
    "\n",
    "a = pd.read_csv('oos_predictions.csv', index_col=0)\n",
    "b = pd.read_csv('TixMuSig.csv',index_col=1)\n",
    "\n",
    "\n",
    "#%%\n",
    "\n",
    "b\n",
    "# b.loc['AAPL']\n",
    "\n",
    "#%%\n",
    "\n",
    "col = ['Close_'+str(i) for i in range(1,11)]\n",
    "Vcol = ['Volatility_'+str(i) for i in range(1,11)]\n",
    "print(col)\n",
    "for i in a.index:\n",
    "    a.loc[i][col] = a.loc[i][col]*b.loc[i].closesig + b.loc[i].closemu\n",
    "    a.loc[i][Vcol] = a.loc[i][Vcol]*b.loc[i].volsig + b.loc[i].volmu\n",
    "\n",
    "#%%\n",
    "\n",
    "a['Price_PrctDelta'] = 100*(a['Close_10']-a['Close_1'])/a['Close_1']\n",
    "a['Volatility_PrctDelta'] = 100*(a['Volatility_10']-a['Volatility_1'])/a['Volatility_1']\n",
    "\n",
    "#%%\n",
    "\n",
    "PossibleLongCalls = a[(a['Price_PrctDelta'] > 0) & (a['Volatility_PrctDelta'] > 0)]\n",
    "PossibleLongPuts = a[(a['Price_PrctDelta'] < 0) & (a['Volatility_PrctDelta'] > 0)]\n",
    "\n",
    "PossibleLongs = a[(a['Price_PrctDelta'] > 0)]\n",
    "PossibleShorts = a[(a['Price_PrctDelta'] < 0)]\n",
    "\n",
    "VolPump = a[(a['Volatility_PrctDelta'] > 0)]\n",
    "VolDump = a[(a['Volatility_PrctDelta'] < 0)]\n",
    "\n",
    "#%%\n",
    "\n",
    "Calls=PossibleLongCalls[['Price_PrctDelta','Volatility_PrctDelta']].sort_values(by='Price_PrctDelta',ascending=False)\n",
    "Puts=PossibleLongPuts[['Price_PrctDelta','Volatility_PrctDelta']].sort_values(by='Price_PrctDelta',ascending=True)\n",
    "Longs=PossibleLongs[['Price_PrctDelta','Volatility_PrctDelta']].sort_values(by='Price_PrctDelta',ascending=False)\n",
    "Shorts=PossibleShorts[['Price_PrctDelta','Volatility_PrctDelta']].sort_values(by='Price_PrctDelta',ascending=True)\n",
    "\n",
    "LongVol=VolPump[['Price_PrctDelta','Volatility_PrctDelta']].sort_values(by='Volatility_PrctDelta',ascending=False)\n",
    "ShortVol=VolDump[['Price_PrctDelta','Volatility_PrctDelta']].sort_values(by='Volatility_PrctDelta',ascending=True)\n",
    "\n",
    "\n",
    "print('Long: ',Longs[Longs['Price_PrctDelta']>2].Price_PrctDelta)\n",
    "print('Short: ',Shorts[Shorts['Price_PrctDelta']<-2].Price_PrctDelta)\n",
    "\n",
    "print('Long Calls: ',Calls[ (Calls['Price_PrctDelta']>2) &(Calls['Volatility_PrctDelta']>5)].index.values)\n",
    "print('Long Puts: ',Puts[ (Puts['Price_PrctDelta']<-2) & (Puts['Volatility_PrctDelta']>5)].index.values)\n",
    "\n",
    "print('Long Volatility: ',LongVol[LongVol.Volatility_PrctDelta > 20].index.values)\n",
    "print('Short Volatility: ',ShortVol[ShortVol.Volatility_PrctDelta < -20].Volatility_PrctDelta)\n",
    "\n",
    "\n",
    "print('Long Butterfly: ',Calls[ (Calls['Price_PrctDelta']<5) &(Calls['Volatility_PrctDelta']>10)].index.values)\n",
    "print('Short Butterfly: ',VolDump[ (VolDump['Price_PrctDelta']<5) &(Calls['Volatility_PrctDelta']>10)].index.values)"
   ]
  },
  {
   "cell_type": "code",
   "execution_count": 64,
   "metadata": {},
   "outputs": [
    {
     "data": {
      "text/plain": [
       "0.28321575408902705"
      ]
     },
     "execution_count": 64,
     "metadata": {},
     "output_type": "execute_result"
    },
    {
     "data": {
      "image/png": "[encoded data removed]",
      "text/plain": [
       "<Figure size 640x480 with 1 Axes>"
      ]
     },
     "metadata": {},
     "output_type": "display_data"
    }
   ],
   "source": [
    "a.loc['DELL'][Vcol].plot()\n",
    "a.loc['DELL']['Volatility_10']"
   ]
  }
 ],
 "metadata": {
  "kernelspec": {
   "display_name": "spacetimeformer",
   "language": "python",
   "name": "python3"
  },
  "language_info": {
   "codemirror_mode": {
    "name": "ipython",
    "version": 3
   },
   "file_extension": ".py",
   "mimetype": "text/x-python",
   "name": "python",
   "nbconvert_exporter": "python",
   "pygments_lexer": "ipython3",
   "version": "3.8.18"
  }
 },
 "nbformat": 4,
 "nbformat_minor": 2
}
